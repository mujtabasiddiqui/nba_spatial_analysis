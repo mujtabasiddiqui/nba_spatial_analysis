{
 "cells": [
  {
   "cell_type": "markdown",
   "metadata": {},
   "source": [
    "# Exploratory Analysis of NBA API available data\n",
    "### Goal: Create shot charts and investigate other available data to perform spatial analysis"
   ]
  },
  {
   "cell_type": "code",
   "execution_count": null,
   "metadata": {},
   "outputs": [],
   "source": []
  }
 ],
 "metadata": {
  "language_info": {
   "codemirror_mode": {
    "name": "ipython",
    "version": 3
   },
   "file_extension": ".py",
   "mimetype": "text/x-python",
   "name": "python",
   "nbconvert_exporter": "python",
   "pygments_lexer": "ipython3",
   "version": "3.7.7-final"
  },
  "orig_nbformat": 2,
  "kernelspec": {
   "name": "python37764bitnbaspatialanalysisconda9415bc16c80948baa0fc69c5289f80bd",
   "display_name": "Python 3.7.7 64-bit ('nba_spatial_analysis': conda)"
  }
 },
 "nbformat": 4,
 "nbformat_minor": 2
}