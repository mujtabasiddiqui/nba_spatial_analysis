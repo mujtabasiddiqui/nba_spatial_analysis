{
 "cells": [
  {
   "cell_type": "markdown",
   "metadata": {},
   "source": [
    "# Exploratory Analysis of NBA API available data\n",
    "## Goal: Create shot charts and investigate other available data to perform spatial analysis"
   ]
  },
  {
   "cell_type": "code",
   "execution_count": 20,
   "metadata": {},
   "outputs": [],
   "source": [
    "import pandas as pd \n",
    "from nba_api.stats.static import players\n",
    "from nba_api.stats.endpoints import shotchartdetail\n",
    "from nba_api.stats.endpoints import playercareerstats"
   ]
  },
  {
   "cell_type": "markdown",
   "metadata": {},
   "source": [
    "### Function to get player specific shot chart dataframe"
   ]
  },
  {
   "cell_type": "code",
   "execution_count": 21,
   "metadata": {},
   "outputs": [],
   "source": [
    "def get_player_shotchartdetail(player_name, season_id):\n",
    "    # player dictionary\n",
    "    nba_players = players.get_players()\n",
    "    player_dict = [player for player in nba_players if player['full_name'] == player_name][0]\n",
    "    \n",
    "    # career df\n",
    "    career = playercareerstats.PlayerCareerStats(player_id=player_dict['id'])\n",
    "    career_df = career.get_data_frames()[0]\n",
    "    \n",
    "    # team id during the season\n",
    "    team_id = career_df[career_df['SEASON_ID'] == season_id]['TEAM_ID']\n",
    "    \n",
    "    # shotchardtdetail endpoint\n",
    "    shotchartlist = shotchartdetail.ShotChartDetail(team_id=int(team_id), \n",
    "                                                   player_id=int(player_dict['id']), \n",
    "                                                   season_type_all_star='Regular Season', \n",
    "                                                   season_nullable=season_id,\n",
    "                                                   context_measure_simple=\"FGA\").get_data_frames()\n",
    "    \n",
    "    return shotchartlist[0], shotchartlist[1]"
   ]
  },
  {
   "cell_type": "markdown",
   "metadata": {},
   "source": [
    "Get shot chart info for Kawhi Leanords 2018-2019 season"
   ]
  },
  {
   "cell_type": "code",
   "execution_count": 22,
   "metadata": {},
   "outputs": [
    {
     "output_type": "execute_result",
     "data": {
      "text/plain": "           GRID_TYPE     GAME_ID  GAME_EVENT_ID  PLAYER_ID    PLAYER_NAME  \\\n0  Shot Chart Detail  0021800008              9     202695  Kawhi Leonard   \n1  Shot Chart Detail  0021800008             28     202695  Kawhi Leonard   \n2  Shot Chart Detail  0021800008             45     202695  Kawhi Leonard   \n3  Shot Chart Detail  0021800008             53     202695  Kawhi Leonard   \n4  Shot Chart Detail  0021800008             98     202695  Kawhi Leonard   \n\n      TEAM_ID        TEAM_NAME  PERIOD  MINUTES_REMAINING  SECONDS_REMAINING  \\\n0  1610612761  Toronto Raptors       1                 11                 24   \n1  1610612761  Toronto Raptors       1                  9                 47   \n2  1610612761  Toronto Raptors       1                  8                 31   \n3  1610612761  Toronto Raptors       1                  8                  3   \n4  1610612761  Toronto Raptors       1                  4                 44   \n\n   ... SHOT_ZONE_AREA  SHOT_ZONE_RANGE SHOT_DISTANCE LOC_X LOC_Y  \\\n0  ...      Center(C)        16-24 ft.            21    13   214   \n1  ...  Right Side(R)         8-16 ft.            12   118    44   \n2  ...      Center(C)         8-16 ft.            12   -34   120   \n3  ...      Center(C)  Less Than 8 ft.             1     2    12   \n4  ...      Center(C)  Less Than 8 ft.             4     0    41   \n\n  SHOT_ATTEMPTED_FLAG  SHOT_MADE_FLAG  GAME_DATE  HTM  VTM  \n0                   1               0   20181017  TOR  CLE  \n1                   1               0   20181017  TOR  CLE  \n2                   1               0   20181017  TOR  CLE  \n3                   1               1   20181017  TOR  CLE  \n4                   1               1   20181017  TOR  CLE  \n\n[5 rows x 24 columns]",
      "text/html": "<div>\n<style scoped>\n    .dataframe tbody tr th:only-of-type {\n        vertical-align: middle;\n    }\n\n    .dataframe tbody tr th {\n        vertical-align: top;\n    }\n\n    .dataframe thead th {\n        text-align: right;\n    }\n</style>\n<table border=\"1\" class=\"dataframe\">\n  <thead>\n    <tr style=\"text-align: right;\">\n      <th></th>\n      <th>GRID_TYPE</th>\n      <th>GAME_ID</th>\n      <th>GAME_EVENT_ID</th>\n      <th>PLAYER_ID</th>\n      <th>PLAYER_NAME</th>\n      <th>TEAM_ID</th>\n      <th>TEAM_NAME</th>\n      <th>PERIOD</th>\n      <th>MINUTES_REMAINING</th>\n      <th>SECONDS_REMAINING</th>\n      <th>...</th>\n      <th>SHOT_ZONE_AREA</th>\n      <th>SHOT_ZONE_RANGE</th>\n      <th>SHOT_DISTANCE</th>\n      <th>LOC_X</th>\n      <th>LOC_Y</th>\n      <th>SHOT_ATTEMPTED_FLAG</th>\n      <th>SHOT_MADE_FLAG</th>\n      <th>GAME_DATE</th>\n      <th>HTM</th>\n      <th>VTM</th>\n    </tr>\n  </thead>\n  <tbody>\n    <tr>\n      <th>0</th>\n      <td>Shot Chart Detail</td>\n      <td>0021800008</td>\n      <td>9</td>\n      <td>202695</td>\n      <td>Kawhi Leonard</td>\n      <td>1610612761</td>\n      <td>Toronto Raptors</td>\n      <td>1</td>\n      <td>11</td>\n      <td>24</td>\n      <td>...</td>\n      <td>Center(C)</td>\n      <td>16-24 ft.</td>\n      <td>21</td>\n      <td>13</td>\n      <td>214</td>\n      <td>1</td>\n      <td>0</td>\n      <td>20181017</td>\n      <td>TOR</td>\n      <td>CLE</td>\n    </tr>\n    <tr>\n      <th>1</th>\n      <td>Shot Chart Detail</td>\n      <td>0021800008</td>\n      <td>28</td>\n      <td>202695</td>\n      <td>Kawhi Leonard</td>\n      <td>1610612761</td>\n      <td>Toronto Raptors</td>\n      <td>1</td>\n      <td>9</td>\n      <td>47</td>\n      <td>...</td>\n      <td>Right Side(R)</td>\n      <td>8-16 ft.</td>\n      <td>12</td>\n      <td>118</td>\n      <td>44</td>\n      <td>1</td>\n      <td>0</td>\n      <td>20181017</td>\n      <td>TOR</td>\n      <td>CLE</td>\n    </tr>\n    <tr>\n      <th>2</th>\n      <td>Shot Chart Detail</td>\n      <td>0021800008</td>\n      <td>45</td>\n      <td>202695</td>\n      <td>Kawhi Leonard</td>\n      <td>1610612761</td>\n      <td>Toronto Raptors</td>\n      <td>1</td>\n      <td>8</td>\n      <td>31</td>\n      <td>...</td>\n      <td>Center(C)</td>\n      <td>8-16 ft.</td>\n      <td>12</td>\n      <td>-34</td>\n      <td>120</td>\n      <td>1</td>\n      <td>0</td>\n      <td>20181017</td>\n      <td>TOR</td>\n      <td>CLE</td>\n    </tr>\n    <tr>\n      <th>3</th>\n      <td>Shot Chart Detail</td>\n      <td>0021800008</td>\n      <td>53</td>\n      <td>202695</td>\n      <td>Kawhi Leonard</td>\n      <td>1610612761</td>\n      <td>Toronto Raptors</td>\n      <td>1</td>\n      <td>8</td>\n      <td>3</td>\n      <td>...</td>\n      <td>Center(C)</td>\n      <td>Less Than 8 ft.</td>\n      <td>1</td>\n      <td>2</td>\n      <td>12</td>\n      <td>1</td>\n      <td>1</td>\n      <td>20181017</td>\n      <td>TOR</td>\n      <td>CLE</td>\n    </tr>\n    <tr>\n      <th>4</th>\n      <td>Shot Chart Detail</td>\n      <td>0021800008</td>\n      <td>98</td>\n      <td>202695</td>\n      <td>Kawhi Leonard</td>\n      <td>1610612761</td>\n      <td>Toronto Raptors</td>\n      <td>1</td>\n      <td>4</td>\n      <td>44</td>\n      <td>...</td>\n      <td>Center(C)</td>\n      <td>Less Than 8 ft.</td>\n      <td>4</td>\n      <td>0</td>\n      <td>41</td>\n      <td>1</td>\n      <td>1</td>\n      <td>20181017</td>\n      <td>TOR</td>\n      <td>CLE</td>\n    </tr>\n  </tbody>\n</table>\n<p>5 rows × 24 columns</p>\n</div>"
     },
     "metadata": {},
     "execution_count": 22
    }
   ],
   "source": [
    "player_shotchart_df, league_avg = get_player_shotchartdetail('Kawhi Leonard', '2018-19')\n",
    "player_shotchart_df.head()"
   ]
  },
  {
   "cell_type": "markdown",
   "metadata": {},
   "source": [
    "Function also returned league averages for the given season based on zones"
   ]
  },
  {
   "cell_type": "code",
   "execution_count": 23,
   "metadata": {},
   "outputs": [
    {
     "output_type": "execute_result",
     "data": {
      "text/plain": "          GRID_TYPE        SHOT_ZONE_BASIC         SHOT_ZONE_AREA  \\\n0   League Averages      Above the Break 3         Back Court(BC)   \n1   League Averages      Above the Break 3              Center(C)   \n2   League Averages      Above the Break 3   Left Side Center(LC)   \n3   League Averages      Above the Break 3  Right Side Center(RC)   \n4   League Averages              Backcourt         Back Court(BC)   \n5   League Averages  In The Paint (Non-RA)              Center(C)   \n6   League Averages  In The Paint (Non-RA)              Center(C)   \n7   League Averages  In The Paint (Non-RA)           Left Side(L)   \n8   League Averages  In The Paint (Non-RA)          Right Side(R)   \n9   League Averages          Left Corner 3           Left Side(L)   \n10  League Averages              Mid-Range              Center(C)   \n11  League Averages              Mid-Range              Center(C)   \n12  League Averages              Mid-Range   Left Side Center(LC)   \n13  League Averages              Mid-Range           Left Side(L)   \n14  League Averages              Mid-Range           Left Side(L)   \n15  League Averages              Mid-Range  Right Side Center(RC)   \n16  League Averages              Mid-Range          Right Side(R)   \n17  League Averages              Mid-Range          Right Side(R)   \n18  League Averages        Restricted Area              Center(C)   \n19  League Averages         Right Corner 3          Right Side(R)   \n\n    SHOT_ZONE_RANGE    FGA    FGM  FG_PCT  \n0   Back Court Shot     43      2   0.047  \n1           24+ ft.  15944   5449   0.342  \n2           24+ ft.  22539   7944   0.352  \n3           24+ ft.  21759   7666   0.352  \n4   Back Court Shot    466     14   0.030  \n5          8-16 ft.  11502   4866   0.423  \n6   Less Than 8 ft.  19554   7665   0.392  \n7          8-16 ft.   1999    797   0.399  \n8          8-16 ft.   2067    849   0.411  \n9           24+ ft.   9112   3519   0.386  \n10         8-16 ft.   2271    940   0.414  \n11        16-24 ft.   5589   2256   0.404  \n12        16-24 ft.   5065   2033   0.401  \n13        16-24 ft.   2152    835   0.388  \n14         8-16 ft.   5413   2141   0.396  \n15        16-24 ft.   5422   2198   0.405  \n16        16-24 ft.   1916    757   0.395  \n17         8-16 ft.   5447   2244   0.412  \n18  Less Than 8 ft.  72427  45574   0.629  \n19          24+ ft.   8771   3313   0.378  ",
      "text/html": "<div>\n<style scoped>\n    .dataframe tbody tr th:only-of-type {\n        vertical-align: middle;\n    }\n\n    .dataframe tbody tr th {\n        vertical-align: top;\n    }\n\n    .dataframe thead th {\n        text-align: right;\n    }\n</style>\n<table border=\"1\" class=\"dataframe\">\n  <thead>\n    <tr style=\"text-align: right;\">\n      <th></th>\n      <th>GRID_TYPE</th>\n      <th>SHOT_ZONE_BASIC</th>\n      <th>SHOT_ZONE_AREA</th>\n      <th>SHOT_ZONE_RANGE</th>\n      <th>FGA</th>\n      <th>FGM</th>\n      <th>FG_PCT</th>\n    </tr>\n  </thead>\n  <tbody>\n    <tr>\n      <th>0</th>\n      <td>League Averages</td>\n      <td>Above the Break 3</td>\n      <td>Back Court(BC)</td>\n      <td>Back Court Shot</td>\n      <td>43</td>\n      <td>2</td>\n      <td>0.047</td>\n    </tr>\n    <tr>\n      <th>1</th>\n      <td>League Averages</td>\n      <td>Above the Break 3</td>\n      <td>Center(C)</td>\n      <td>24+ ft.</td>\n      <td>15944</td>\n      <td>5449</td>\n      <td>0.342</td>\n    </tr>\n    <tr>\n      <th>2</th>\n      <td>League Averages</td>\n      <td>Above the Break 3</td>\n      <td>Left Side Center(LC)</td>\n      <td>24+ ft.</td>\n      <td>22539</td>\n      <td>7944</td>\n      <td>0.352</td>\n    </tr>\n    <tr>\n      <th>3</th>\n      <td>League Averages</td>\n      <td>Above the Break 3</td>\n      <td>Right Side Center(RC)</td>\n      <td>24+ ft.</td>\n      <td>21759</td>\n      <td>7666</td>\n      <td>0.352</td>\n    </tr>\n    <tr>\n      <th>4</th>\n      <td>League Averages</td>\n      <td>Backcourt</td>\n      <td>Back Court(BC)</td>\n      <td>Back Court Shot</td>\n      <td>466</td>\n      <td>14</td>\n      <td>0.030</td>\n    </tr>\n    <tr>\n      <th>5</th>\n      <td>League Averages</td>\n      <td>In The Paint (Non-RA)</td>\n      <td>Center(C)</td>\n      <td>8-16 ft.</td>\n      <td>11502</td>\n      <td>4866</td>\n      <td>0.423</td>\n    </tr>\n    <tr>\n      <th>6</th>\n      <td>League Averages</td>\n      <td>In The Paint (Non-RA)</td>\n      <td>Center(C)</td>\n      <td>Less Than 8 ft.</td>\n      <td>19554</td>\n      <td>7665</td>\n      <td>0.392</td>\n    </tr>\n    <tr>\n      <th>7</th>\n      <td>League Averages</td>\n      <td>In The Paint (Non-RA)</td>\n      <td>Left Side(L)</td>\n      <td>8-16 ft.</td>\n      <td>1999</td>\n      <td>797</td>\n      <td>0.399</td>\n    </tr>\n    <tr>\n      <th>8</th>\n      <td>League Averages</td>\n      <td>In The Paint (Non-RA)</td>\n      <td>Right Side(R)</td>\n      <td>8-16 ft.</td>\n      <td>2067</td>\n      <td>849</td>\n      <td>0.411</td>\n    </tr>\n    <tr>\n      <th>9</th>\n      <td>League Averages</td>\n      <td>Left Corner 3</td>\n      <td>Left Side(L)</td>\n      <td>24+ ft.</td>\n      <td>9112</td>\n      <td>3519</td>\n      <td>0.386</td>\n    </tr>\n    <tr>\n      <th>10</th>\n      <td>League Averages</td>\n      <td>Mid-Range</td>\n      <td>Center(C)</td>\n      <td>8-16 ft.</td>\n      <td>2271</td>\n      <td>940</td>\n      <td>0.414</td>\n    </tr>\n    <tr>\n      <th>11</th>\n      <td>League Averages</td>\n      <td>Mid-Range</td>\n      <td>Center(C)</td>\n      <td>16-24 ft.</td>\n      <td>5589</td>\n      <td>2256</td>\n      <td>0.404</td>\n    </tr>\n    <tr>\n      <th>12</th>\n      <td>League Averages</td>\n      <td>Mid-Range</td>\n      <td>Left Side Center(LC)</td>\n      <td>16-24 ft.</td>\n      <td>5065</td>\n      <td>2033</td>\n      <td>0.401</td>\n    </tr>\n    <tr>\n      <th>13</th>\n      <td>League Averages</td>\n      <td>Mid-Range</td>\n      <td>Left Side(L)</td>\n      <td>16-24 ft.</td>\n      <td>2152</td>\n      <td>835</td>\n      <td>0.388</td>\n    </tr>\n    <tr>\n      <th>14</th>\n      <td>League Averages</td>\n      <td>Mid-Range</td>\n      <td>Left Side(L)</td>\n      <td>8-16 ft.</td>\n      <td>5413</td>\n      <td>2141</td>\n      <td>0.396</td>\n    </tr>\n    <tr>\n      <th>15</th>\n      <td>League Averages</td>\n      <td>Mid-Range</td>\n      <td>Right Side Center(RC)</td>\n      <td>16-24 ft.</td>\n      <td>5422</td>\n      <td>2198</td>\n      <td>0.405</td>\n    </tr>\n    <tr>\n      <th>16</th>\n      <td>League Averages</td>\n      <td>Mid-Range</td>\n      <td>Right Side(R)</td>\n      <td>16-24 ft.</td>\n      <td>1916</td>\n      <td>757</td>\n      <td>0.395</td>\n    </tr>\n    <tr>\n      <th>17</th>\n      <td>League Averages</td>\n      <td>Mid-Range</td>\n      <td>Right Side(R)</td>\n      <td>8-16 ft.</td>\n      <td>5447</td>\n      <td>2244</td>\n      <td>0.412</td>\n    </tr>\n    <tr>\n      <th>18</th>\n      <td>League Averages</td>\n      <td>Restricted Area</td>\n      <td>Center(C)</td>\n      <td>Less Than 8 ft.</td>\n      <td>72427</td>\n      <td>45574</td>\n      <td>0.629</td>\n    </tr>\n    <tr>\n      <th>19</th>\n      <td>League Averages</td>\n      <td>Right Corner 3</td>\n      <td>Right Side(R)</td>\n      <td>24+ ft.</td>\n      <td>8771</td>\n      <td>3313</td>\n      <td>0.378</td>\n    </tr>\n  </tbody>\n</table>\n</div>"
     },
     "metadata": {},
     "execution_count": 23
    }
   ],
   "source": [
    "league_avg"
   ]
  },
  {
   "cell_type": "markdown",
   "metadata": {},
   "source": [
    "Check for missing values in XY coordinates"
   ]
  },
  {
   "cell_type": "code",
   "execution_count": 30,
   "metadata": {},
   "outputs": [
    {
     "output_type": "execute_result",
     "data": {
      "text/plain": "False"
     },
     "metadata": {},
     "execution_count": 30
    }
   ],
   "source": [
    "player_shotchart_df['LOC_X'].isnull().any() or player_shotchart_df['LOC_Y'].isnull().any()"
   ]
  },
  {
   "cell_type": "markdown",
   "metadata": {},
   "source": [
    "### Shot Chart Creation"
   ]
  },
  {
   "cell_type": "code",
   "execution_count": null,
   "metadata": {},
   "outputs": [],
   "source": []
  }
 ],
 "metadata": {
  "language_info": {
   "codemirror_mode": {
    "name": "ipython",
    "version": 3
   },
   "file_extension": ".py",
   "mimetype": "text/x-python",
   "name": "python",
   "nbconvert_exporter": "python",
   "pygments_lexer": "ipython3",
   "version": "3.7.7-final"
  },
  "orig_nbformat": 2,
  "kernelspec": {
   "name": "python37764bitnbaspatialanalysisconda9415bc16c80948baa0fc69c5289f80bd",
   "display_name": "Python 3.7.7 64-bit ('nba_spatial_analysis': conda)"
  }
 },
 "nbformat": 4,
 "nbformat_minor": 2
}